{
 "cells": [
  {
   "cell_type": "markdown",
   "id": "6eb72ec8-64d5-4bf7-be52-a4205c42f90a",
   "metadata": {},
   "source": [
    "<font size=\"6\"><center>**Group Time Series Cross Validation**</font>"
   ]
  },
  {
   "cell_type": "code",
   "execution_count": 1,
   "id": "f0d673ac-0425-41aa-9dc8-b23e860a5bd4",
   "metadata": {},
   "outputs": [],
   "source": [
    "%load_ext autoreload\n",
    "%autoreload 2"
   ]
  },
  {
   "cell_type": "code",
   "execution_count": 2,
   "id": "0cfad815-aca9-45b1-b9c5-e1391a3b01fa",
   "metadata": {},
   "outputs": [
    {
     "name": "stdout",
     "output_type": "stream",
     "text": [
      "running notebook configuration\n"
     ]
    }
   ],
   "source": [
    "%run ../nb_config.py"
   ]
  },
  {
   "cell_type": "code",
   "execution_count": 3,
   "id": "d5928164-9ea5-4633-a889-6ed5601832b1",
   "metadata": {},
   "outputs": [],
   "source": [
    "import numpy as np\n",
    "import pandas as pd\n"
   ]
  },
  {
   "cell_type": "code",
   "execution_count": 4,
   "id": "bd0eb713-196b-470a-91ba-7a91c7a46c3b",
   "metadata": {},
   "outputs": [],
   "source": [
    "from src.data_api import sources, sinks\n",
    "from src import utils, tags\n",
    "from sklearn.model_selection import TimeSeriesSplit\n",
    "from src import mle "
   ]
  },
  {
   "cell_type": "markdown",
   "id": "beeadea0-3327-4438-81a2-35699a5101fa",
   "metadata": {},
   "source": [
    "## Cross Validation"
   ]
  },
  {
   "cell_type": "code",
   "execution_count": 5,
   "id": "0e80459d-ac3b-49a1-802b-1c14373f9874",
   "metadata": {},
   "outputs": [
    {
     "data": {
      "text/html": [
       "<div>\n",
       "<style scoped>\n",
       "    .dataframe tbody tr th:only-of-type {\n",
       "        vertical-align: middle;\n",
       "    }\n",
       "\n",
       "    .dataframe tbody tr th {\n",
       "        vertical-align: top;\n",
       "    }\n",
       "\n",
       "    .dataframe thead th {\n",
       "        text-align: right;\n",
       "    }\n",
       "</style>\n",
       "<table border=\"1\" class=\"dataframe\">\n",
       "  <thead>\n",
       "    <tr style=\"text-align: right;\">\n",
       "      <th></th>\n",
       "      <th></th>\n",
       "      <th>x</th>\n",
       "    </tr>\n",
       "    <tr>\n",
       "      <th>stock_id</th>\n",
       "      <th>time_id</th>\n",
       "      <th></th>\n",
       "    </tr>\n",
       "  </thead>\n",
       "  <tbody>\n",
       "    <tr>\n",
       "      <th rowspan=\"6\" valign=\"top\">0</th>\n",
       "      <th>0</th>\n",
       "      <td>1.0000</td>\n",
       "    </tr>\n",
       "    <tr>\n",
       "      <th>1</th>\n",
       "      <td>2.0000</td>\n",
       "    </tr>\n",
       "    <tr>\n",
       "      <th>2</th>\n",
       "      <td>3.0000</td>\n",
       "    </tr>\n",
       "    <tr>\n",
       "      <th>3</th>\n",
       "      <td>4.0000</td>\n",
       "    </tr>\n",
       "    <tr>\n",
       "      <th>4</th>\n",
       "      <td>5.0000</td>\n",
       "    </tr>\n",
       "    <tr>\n",
       "      <th>5</th>\n",
       "      <td>5.0000</td>\n",
       "    </tr>\n",
       "    <tr>\n",
       "      <th rowspan=\"6\" valign=\"top\">1</th>\n",
       "      <th>0</th>\n",
       "      <td>1.0000</td>\n",
       "    </tr>\n",
       "    <tr>\n",
       "      <th>1</th>\n",
       "      <td>2.0000</td>\n",
       "    </tr>\n",
       "    <tr>\n",
       "      <th>2</th>\n",
       "      <td>3.0000</td>\n",
       "    </tr>\n",
       "    <tr>\n",
       "      <th>3</th>\n",
       "      <td>4.0000</td>\n",
       "    </tr>\n",
       "    <tr>\n",
       "      <th>4</th>\n",
       "      <td>5.0000</td>\n",
       "    </tr>\n",
       "    <tr>\n",
       "      <th>5</th>\n",
       "      <td>5.0000</td>\n",
       "    </tr>\n",
       "    <tr>\n",
       "      <th rowspan=\"6\" valign=\"top\">2</th>\n",
       "      <th>0</th>\n",
       "      <td>1.0000</td>\n",
       "    </tr>\n",
       "    <tr>\n",
       "      <th>1</th>\n",
       "      <td>2.0000</td>\n",
       "    </tr>\n",
       "    <tr>\n",
       "      <th>2</th>\n",
       "      <td>3.0000</td>\n",
       "    </tr>\n",
       "    <tr>\n",
       "      <th>3</th>\n",
       "      <td>4.0000</td>\n",
       "    </tr>\n",
       "    <tr>\n",
       "      <th>4</th>\n",
       "      <td>5.0000</td>\n",
       "    </tr>\n",
       "    <tr>\n",
       "      <th>5</th>\n",
       "      <td>5.0000</td>\n",
       "    </tr>\n",
       "  </tbody>\n",
       "</table>\n",
       "</div>"
      ],
      "text/plain": [
       "                      x\n",
       "stock_id time_id       \n",
       "0        0       1.0000\n",
       "         1       2.0000\n",
       "         2       3.0000\n",
       "         3       4.0000\n",
       "         4       5.0000\n",
       "         5       5.0000\n",
       "1        0       1.0000\n",
       "         1       2.0000\n",
       "         2       3.0000\n",
       "         3       4.0000\n",
       "         4       5.0000\n",
       "         5       5.0000\n",
       "2        0       1.0000\n",
       "         1       2.0000\n",
       "         2       3.0000\n",
       "         3       4.0000\n",
       "         4       5.0000\n",
       "         5       5.0000"
      ]
     },
     "execution_count": 5,
     "metadata": {},
     "output_type": "execute_result"
    }
   ],
   "source": [
    "y_example = pd.DataFrame(\n",
    "    data=[[0, 0, 1.], [0,1, 2.], [0, 2, 3.], [0, 3, 4.], [0, 4, 5.], [0, 5, 5.],\n",
    "          [1, 0, 1.], [1,1, 2.], [1, 2, 3.], [1, 3, 4.], [1, 4, 5.], [1, 5, 5.],\n",
    "          [2, 0, 1.], [2,1, 2.], [2, 2, 3.], [2, 3, 4.], [2, 4, 5.], [2, 5, 5.]],\n",
    "    columns=['stock_id', 'time_id', 'x']\n",
    ").set_index(['stock_id', 'time_id'])\n",
    "y_example"
   ]
  },
  {
   "cell_type": "markdown",
   "id": "072bbdf5-09dd-4096-a6fb-b77f65f8a09e",
   "metadata": {},
   "source": [
    "Regular scikit-learn TimeSeries splitter cannot handle a group variable, check the following indeces (they are totally wrong)\n",
    "\n",
    "https://scikit-learn.org/stable/auto_examples/model_selection/plot_cv_indices.html#sphx-glr-auto-examples-model-selection-plot-cv-indices-py"
   ]
  },
  {
   "cell_type": "code",
   "execution_count": 6,
   "id": "48ec4cbf-7973-4795-a46e-462227b8802e",
   "metadata": {},
   "outputs": [],
   "source": [
    "cvts_skl = TimeSeriesSplit(n_splits=2)"
   ]
  },
  {
   "cell_type": "code",
   "execution_count": 7,
   "id": "87a853ad-4c98-4bbc-befb-e4261ca3baf0",
   "metadata": {},
   "outputs": [
    {
     "name": "stdout",
     "output_type": "stream",
     "text": [
      "TRAIN: [0 1 2 3 4 5] TEST: [ 6  7  8  9 10 11]\n",
      "TRAIN: [ 0  1  2  3  4  5  6  7  8  9 10 11] TEST: [12 13 14 15 16 17]\n"
     ]
    }
   ],
   "source": [
    "for train_index, test_index in cvts_skl.split(y_example):\n",
    "    print(\"TRAIN:\", train_index, \"TEST:\", test_index)"
   ]
  },
  {
   "cell_type": "markdown",
   "id": "b13a5fc4-a940-4f46-9e86-3cbf20b42e6c",
   "metadata": {},
   "source": [
    "Try custom TimeSeries splitter that can handle groups\n",
    "\n",
    "https://github.com/getgaurav2/scikit-learn/blob/d4a3af5cc9da3a76f0266932644b884c99724c57/sklearn/model_selection/_split.py#L2243\n",
    "\n",
    "You will need to provide groups as well as actual data"
   ]
  },
  {
   "cell_type": "code",
   "execution_count": 8,
   "id": "71dfbc7f-540f-4348-9262-740574ae4f6e",
   "metadata": {},
   "outputs": [],
   "source": [
    "cvts0 = mle.GroupTimeSeriesSplit(n_splits=2)\n",
    "groups0 = y_example.index.get_level_values('time_id')"
   ]
  },
  {
   "cell_type": "code",
   "execution_count": 9,
   "id": "d0ec4b26-816c-440e-af2a-464a2ae4c5fe",
   "metadata": {},
   "outputs": [
    {
     "name": "stdout",
     "output_type": "stream",
     "text": [
      "TRAIN: [0, 1, 6, 7, 12, 13] TEST: [2, 3, 8, 9, 14, 15]\n",
      "TRAIN: [0, 1, 2, 3, 6, 7, 8, 9, 12, 13, 14, 15] TEST: [4, 5, 10, 11, 16, 17]\n"
     ]
    }
   ],
   "source": [
    "for train_index, test_index in cvts0.split(y_example, groups=groups0):\n",
    "    print(\"TRAIN:\", train_index, \"TEST:\", test_index)"
   ]
  },
  {
   "cell_type": "markdown",
   "id": "7ea17dc7-1cd7-4723-928c-779c1209ff5b",
   "metadata": {},
   "source": [
    "Verify that a regular TimeSeriesSplit is performed on each group (ticker)"
   ]
  }
 ],
 "metadata": {
  "kernelspec": {
   "display_name": "Python 3",
   "language": "python",
   "name": "python3"
  },
  "language_info": {
   "codemirror_mode": {
    "name": "ipython",
    "version": 3
   },
   "file_extension": ".py",
   "mimetype": "text/x-python",
   "name": "python",
   "nbconvert_exporter": "python",
   "pygments_lexer": "ipython3",
   "version": "3.8.8"
  }
 },
 "nbformat": 4,
 "nbformat_minor": 5
}
