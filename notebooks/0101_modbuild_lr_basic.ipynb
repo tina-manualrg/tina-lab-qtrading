{
 "cells": [
  {
   "cell_type": "markdown",
   "id": "6eb72ec8-64d5-4bf7-be52-a4205c42f90a",
   "metadata": {},
   "source": [
    "<font size=\"6\"><center>**Model Building: Basics**</font>"
   ]
  },
  {
   "cell_type": "code",
   "execution_count": null,
   "id": "f0d673ac-0425-41aa-9dc8-b23e860a5bd4",
   "metadata": {},
   "outputs": [],
   "source": [
    "%load_ext autoreload\n",
    "%autoreload 2"
   ]
  },
  {
   "cell_type": "code",
   "execution_count": null,
   "id": "0cfad815-aca9-45b1-b9c5-e1391a3b01fa",
   "metadata": {},
   "outputs": [
    {
     "name": "stdout",
     "output_type": "stream",
     "text": [
      "running notebook configuration\n"
     ]
    }
   ],
   "source": [
    "%run ../nb_config.py"
   ]
  },
  {
   "cell_type": "code",
   "execution_count": null,
   "id": "d5928164-9ea5-4633-a889-6ed5601832b1",
   "metadata": {},
   "outputs": [],
   "source": [
    "import numpy as np\n",
    "import pandas as pd\n"
   ]
  },
  {
   "cell_type": "code",
   "execution_count": null,
   "id": "bd0eb713-196b-470a-91ba-7a91c7a46c3b",
   "metadata": {},
   "outputs": [],
   "source": [
    "from src.data_api import sources, sinks\n",
    "from src import utils, tags\n",
    "\n",
    "from src import mle "
   ]
  },
  {
   "cell_type": "code",
   "execution_count": null,
   "id": "b261fc66-bded-4684-a820-be9c78b51b7e",
   "metadata": {},
   "outputs": [],
   "source": [
    "conf = utils.get_conf()"
   ]
  },
  {
   "cell_type": "code",
   "execution_count": null,
   "id": "0c933af8-8190-488d-8247-262f9388a1f6",
   "metadata": {},
   "outputs": [],
   "source": [
    "fparams = conf['func_params']\n",
    "\n",
    "start_dt = fparams['start_dt']\n",
    "end_dt = fparams['end_dt']\n",
    "avol_top = float(fparams['avol_top'])\n",
    "avol_window = int(fparams['avol_window'])\n",
    "tau = int(fparams['target']['tau'])\n",
    "\n",
    "val_dt = fparams['split_dt']['valid']\n",
    "test_dt = fparams['split_dt']['test']"
   ]
  },
  {
   "cell_type": "code",
   "execution_count": null,
   "id": "c3928fa4-37d3-44bd-b805-925b3b81fd4b",
   "metadata": {},
   "outputs": [
    {
     "data": {
      "text/plain": [
       "('2015-01-01', '2016-12-31', '2017-06-30', '2017-12-31')"
      ]
     },
     "execution_count": 7,
     "metadata": {},
     "output_type": "execute_result"
    }
   ],
   "source": [
    "start_dt, val_dt, test_dt, end_dt"
   ]
  },
  {
   "cell_type": "code",
   "execution_count": null,
   "id": "1d6d0f86-a852-47c0-961b-d573a45b5e25",
   "metadata": {},
   "outputs": [],
   "source": [
    "RND_SEED = 123"
   ]
  },
  {
   "cell_type": "markdown",
   "id": "234c7602-0b1b-4295-97fa-5819e648bf9d",
   "metadata": {},
   "source": [
    "# Load Data"
   ]
  },
  {
   "cell_type": "code",
   "execution_count": null,
   "id": "0b6c6dcb-c9be-4c40-9d7b-a0442d8be01d",
   "metadata": {},
   "outputs": [
    {
     "name": "stdout",
     "output_type": "stream",
     "text": [
      "<class 'pandas.core.frame.DataFrame'>\n",
      "MultiIndex: 374331 entries, (Timestamp('2015-01-02 00:00:00'), 'A') to (Timestamp('2017-12-29 00:00:00'), 'ZTS')\n",
      "Columns: 28 entries, sector to split_3f\n",
      "dtypes: bool(1), float64(24), object(3)\n",
      "memory usage: 79.0+ MB\n"
     ]
    }
   ],
   "source": [
    "feats_and_targets = sources.read_data(\n",
    "    'feats_and_targets.csv', layer='interim',\n",
    "    parse_dates=['date'], index_col=['date', 'ticker'])\n",
    "feats_and_targets.info()"
   ]
  },
  {
   "cell_type": "code",
   "execution_count": null,
   "id": "a13511fc-1258-4a5d-aa96-2e44ab6539bd",
   "metadata": {},
   "outputs": [
    {
     "data": {
      "text/html": [
       "<div>\n",
       "<style scoped>\n",
       "    .dataframe tbody tr th:only-of-type {\n",
       "        vertical-align: middle;\n",
       "    }\n",
       "\n",
       "    .dataframe tbody tr th {\n",
       "        vertical-align: top;\n",
       "    }\n",
       "\n",
       "    .dataframe thead th {\n",
       "        text-align: right;\n",
       "    }\n",
       "</style>\n",
       "<table border=\"1\" class=\"dataframe\">\n",
       "  <thead>\n",
       "    <tr style=\"text-align: right;\">\n",
       "      <th></th>\n",
       "      <th></th>\n",
       "      <th>sector</th>\n",
       "      <th>SP500</th>\n",
       "      <th>y_fwd_logrets_5d</th>\n",
       "      <th>x_intrad_upshadow</th>\n",
       "      <th>x_intrad_loshadow</th>\n",
       "      <th>x_returns_1d</th>\n",
       "      <th>x_returns_5d</th>\n",
       "      <th>x_zscore_5d</th>\n",
       "      <th>x_zscore_vol_5d</th>\n",
       "      <th>x_macd_5d_vs_20d</th>\n",
       "      <th>x_rsi</th>\n",
       "      <th>x_zscore_20d</th>\n",
       "      <th>x_zscore_vol_20d</th>\n",
       "      <th>x_zscore_60d</th>\n",
       "      <th>x_zscore_vol_60d</th>\n",
       "      <th>x_bb_60d</th>\n",
       "      <th>x_macd_50d_vs_252d</th>\n",
       "      <th>x_returns_1y</th>\n",
       "      <th>x_rets5d_vol_60d</th>\n",
       "      <th>x_rets5d_vol_120d</th>\n",
       "      <th>x_mkt_dispersion</th>\n",
       "      <th>x_wday_cos</th>\n",
       "      <th>x_wday_sin</th>\n",
       "      <th>x_is_eoq</th>\n",
       "      <th>x_mkt_volat_60d</th>\n",
       "      <th>x_mkt_volat_120d</th>\n",
       "      <th>split</th>\n",
       "      <th>split_3f</th>\n",
       "    </tr>\n",
       "    <tr>\n",
       "      <th>date</th>\n",
       "      <th>ticker</th>\n",
       "      <th></th>\n",
       "      <th></th>\n",
       "      <th></th>\n",
       "      <th></th>\n",
       "      <th></th>\n",
       "      <th></th>\n",
       "      <th></th>\n",
       "      <th></th>\n",
       "      <th></th>\n",
       "      <th></th>\n",
       "      <th></th>\n",
       "      <th></th>\n",
       "      <th></th>\n",
       "      <th></th>\n",
       "      <th></th>\n",
       "      <th></th>\n",
       "      <th></th>\n",
       "      <th></th>\n",
       "      <th></th>\n",
       "      <th></th>\n",
       "      <th></th>\n",
       "      <th></th>\n",
       "      <th></th>\n",
       "      <th></th>\n",
       "      <th></th>\n",
       "      <th></th>\n",
       "      <th></th>\n",
       "      <th></th>\n",
       "    </tr>\n",
       "  </thead>\n",
       "  <tbody>\n",
       "    <tr>\n",
       "      <th>2015-01-02</th>\n",
       "      <th>A</th>\n",
       "      <td>Capital Goods</td>\n",
       "      <td>-0.0147</td>\n",
       "      <td>0.0007</td>\n",
       "      <td>0.1264</td>\n",
       "      <td>0.1847</td>\n",
       "      <td>-0.0069</td>\n",
       "      <td>-0.0115</td>\n",
       "      <td>-1.4744</td>\n",
       "      <td>0.9398</td>\n",
       "      <td>0.2672</td>\n",
       "      <td>55.3864</td>\n",
       "      <td>-0.1928</td>\n",
       "      <td>-0.5010</td>\n",
       "      <td>0.1058</td>\n",
       "      <td>-0.8054</td>\n",
       "      <td>0.0000</td>\n",
       "      <td>0.4378</td>\n",
       "      <td>0.1129</td>\n",
       "      <td>0.0405</td>\n",
       "      <td>0.0336</td>\n",
       "      <td>0.0543</td>\n",
       "      <td>0.3090</td>\n",
       "      <td>-0.9511</td>\n",
       "      <td>False</td>\n",
       "      <td>0.0236</td>\n",
       "      <td>0.0192</td>\n",
       "      <td>1.dev</td>\n",
       "      <td>1.train</td>\n",
       "    </tr>\n",
       "    <tr>\n",
       "      <th>2015-01-05</th>\n",
       "      <th>A</th>\n",
       "      <td>Capital Goods</td>\n",
       "      <td>-0.0341</td>\n",
       "      <td>0.0078</td>\n",
       "      <td>0.1361</td>\n",
       "      <td>0.0972</td>\n",
       "      <td>-0.0189</td>\n",
       "      <td>-0.0365</td>\n",
       "      <td>-1.5635</td>\n",
       "      <td>1.5077</td>\n",
       "      <td>0.0948</td>\n",
       "      <td>55.6667</td>\n",
       "      <td>-0.8393</td>\n",
       "      <td>-0.0693</td>\n",
       "      <td>-0.3988</td>\n",
       "      <td>-0.4243</td>\n",
       "      <td>0.0000</td>\n",
       "      <td>0.4540</td>\n",
       "      <td>0.1001</td>\n",
       "      <td>0.0406</td>\n",
       "      <td>0.0338</td>\n",
       "      <td>0.0628</td>\n",
       "      <td>1.0000</td>\n",
       "      <td>0.0000</td>\n",
       "      <td>False</td>\n",
       "      <td>0.0241</td>\n",
       "      <td>0.0194</td>\n",
       "      <td>1.dev</td>\n",
       "      <td>1.train</td>\n",
       "    </tr>\n",
       "    <tr>\n",
       "      <th>2017-12-28</th>\n",
       "      <th>ZTS</th>\n",
       "      <td>Health Care</td>\n",
       "      <td>0.0011</td>\n",
       "      <td>0.0133</td>\n",
       "      <td>0.1100</td>\n",
       "      <td>0.2500</td>\n",
       "      <td>-0.0008</td>\n",
       "      <td>-0.0044</td>\n",
       "      <td>0.5586</td>\n",
       "      <td>-1.2001</td>\n",
       "      <td>0.2580</td>\n",
       "      <td>59.9842</td>\n",
       "      <td>0.6349</td>\n",
       "      <td>-1.4923</td>\n",
       "      <td>1.0820</td>\n",
       "      <td>-1.6623</td>\n",
       "      <td>0.0000</td>\n",
       "      <td>8.6920</td>\n",
       "      <td>0.3552</td>\n",
       "      <td>0.0237</td>\n",
       "      <td>0.0218</td>\n",
       "      <td>0.0547</td>\n",
       "      <td>-0.8090</td>\n",
       "      <td>-0.5878</td>\n",
       "      <td>False</td>\n",
       "      <td>0.0057</td>\n",
       "      <td>0.0068</td>\n",
       "      <td>2.test</td>\n",
       "      <td>3.test</td>\n",
       "    </tr>\n",
       "    <tr>\n",
       "      <th>2017-12-29</th>\n",
       "      <th>ZTS</th>\n",
       "      <td>Health Care</td>\n",
       "      <td>-0.0036</td>\n",
       "      <td>0.0301</td>\n",
       "      <td>0.2100</td>\n",
       "      <td>0.0000</td>\n",
       "      <td>-0.0048</td>\n",
       "      <td>-0.0033</td>\n",
       "      <td>-0.9547</td>\n",
       "      <td>1.3702</td>\n",
       "      <td>0.2225</td>\n",
       "      <td>65.2919</td>\n",
       "      <td>0.0366</td>\n",
       "      <td>-0.0578</td>\n",
       "      <td>0.9494</td>\n",
       "      <td>-0.5330</td>\n",
       "      <td>0.0000</td>\n",
       "      <td>8.7416</td>\n",
       "      <td>0.3557</td>\n",
       "      <td>0.0238</td>\n",
       "      <td>0.0218</td>\n",
       "      <td>0.0637</td>\n",
       "      <td>0.3090</td>\n",
       "      <td>-0.9511</td>\n",
       "      <td>False</td>\n",
       "      <td>0.0056</td>\n",
       "      <td>0.0068</td>\n",
       "      <td>2.test</td>\n",
       "      <td>3.test</td>\n",
       "    </tr>\n",
       "  </tbody>\n",
       "</table>\n",
       "</div>"
      ],
      "text/plain": [
       "                          sector   SP500  y_fwd_logrets_5d  x_intrad_upshadow  \\\n",
       "date       ticker                                                               \n",
       "2015-01-02 A       Capital Goods -0.0147            0.0007             0.1264   \n",
       "2015-01-05 A       Capital Goods -0.0341            0.0078             0.1361   \n",
       "2017-12-28 ZTS       Health Care  0.0011            0.0133             0.1100   \n",
       "2017-12-29 ZTS       Health Care -0.0036            0.0301             0.2100   \n",
       "\n",
       "                   x_intrad_loshadow  x_returns_1d  x_returns_5d  x_zscore_5d  \\\n",
       "date       ticker                                                               \n",
       "2015-01-02 A                  0.1847       -0.0069       -0.0115      -1.4744   \n",
       "2015-01-05 A                  0.0972       -0.0189       -0.0365      -1.5635   \n",
       "2017-12-28 ZTS                0.2500       -0.0008       -0.0044       0.5586   \n",
       "2017-12-29 ZTS                0.0000       -0.0048       -0.0033      -0.9547   \n",
       "\n",
       "                   x_zscore_vol_5d  x_macd_5d_vs_20d   x_rsi  x_zscore_20d  \\\n",
       "date       ticker                                                            \n",
       "2015-01-02 A                0.9398            0.2672 55.3864       -0.1928   \n",
       "2015-01-05 A                1.5077            0.0948 55.6667       -0.8393   \n",
       "2017-12-28 ZTS             -1.2001            0.2580 59.9842        0.6349   \n",
       "2017-12-29 ZTS              1.3702            0.2225 65.2919        0.0366   \n",
       "\n",
       "                   x_zscore_vol_20d  x_zscore_60d  x_zscore_vol_60d  x_bb_60d  \\\n",
       "date       ticker                                                               \n",
       "2015-01-02 A                -0.5010        0.1058           -0.8054    0.0000   \n",
       "2015-01-05 A                -0.0693       -0.3988           -0.4243    0.0000   \n",
       "2017-12-28 ZTS              -1.4923        1.0820           -1.6623    0.0000   \n",
       "2017-12-29 ZTS              -0.0578        0.9494           -0.5330    0.0000   \n",
       "\n",
       "                   x_macd_50d_vs_252d  x_returns_1y  x_rets5d_vol_60d  \\\n",
       "date       ticker                                                       \n",
       "2015-01-02 A                   0.4378        0.1129            0.0405   \n",
       "2015-01-05 A                   0.4540        0.1001            0.0406   \n",
       "2017-12-28 ZTS                 8.6920        0.3552            0.0237   \n",
       "2017-12-29 ZTS                 8.7416        0.3557            0.0238   \n",
       "\n",
       "                   x_rets5d_vol_120d  x_mkt_dispersion  x_wday_cos  \\\n",
       "date       ticker                                                    \n",
       "2015-01-02 A                  0.0336            0.0543      0.3090   \n",
       "2015-01-05 A                  0.0338            0.0628      1.0000   \n",
       "2017-12-28 ZTS                0.0218            0.0547     -0.8090   \n",
       "2017-12-29 ZTS                0.0218            0.0637      0.3090   \n",
       "\n",
       "                   x_wday_sin  x_is_eoq  x_mkt_volat_60d  x_mkt_volat_120d  \\\n",
       "date       ticker                                                            \n",
       "2015-01-02 A          -0.9511     False           0.0236            0.0192   \n",
       "2015-01-05 A           0.0000     False           0.0241            0.0194   \n",
       "2017-12-28 ZTS        -0.5878     False           0.0057            0.0068   \n",
       "2017-12-29 ZTS        -0.9511     False           0.0056            0.0068   \n",
       "\n",
       "                    split split_3f  \n",
       "date       ticker                   \n",
       "2015-01-02 A        1.dev  1.train  \n",
       "2015-01-05 A        1.dev  1.train  \n",
       "2017-12-28 ZTS     2.test   3.test  \n",
       "2017-12-29 ZTS     2.test   3.test  "
      ]
     },
     "execution_count": 10,
     "metadata": {},
     "output_type": "execute_result"
    }
   ],
   "source": [
    "pd.concat([feats_and_targets.head(2), feats_and_targets.tail(2)], axis=0)"
   ]
  },
  {
   "cell_type": "code",
   "execution_count": null,
   "id": "9fd538e8-a57f-4483-9b68-70556db09578",
   "metadata": {},
   "outputs": [
    {
     "data": {
      "text/plain": [
       "Index(['sector', 'SP500', 'y_fwd_logrets_5d', 'x_intrad_upshadow',\n",
       "       'x_intrad_loshadow', 'x_returns_1d', 'x_returns_5d', 'x_zscore_5d',\n",
       "       'x_zscore_vol_5d', 'x_macd_5d_vs_20d', 'x_rsi', 'x_zscore_20d',\n",
       "       'x_zscore_vol_20d', 'x_zscore_60d', 'x_zscore_vol_60d', 'x_bb_60d',\n",
       "       'x_macd_50d_vs_252d', 'x_returns_1y', 'x_rets5d_vol_60d',\n",
       "       'x_rets5d_vol_120d', 'x_mkt_dispersion', 'x_wday_cos', 'x_wday_sin',\n",
       "       'x_is_eoq', 'x_mkt_volat_60d', 'x_mkt_volat_120d', 'split', 'split_3f'],\n",
       "      dtype='object')"
      ]
     },
     "execution_count": 11,
     "metadata": {},
     "output_type": "execute_result"
    }
   ],
   "source": [
    "feats_and_targets.columns"
   ]
  },
  {
   "cell_type": "markdown",
   "id": "6e97e078-f8f2-48c9-aa82-548d773a2ee2",
   "metadata": {},
   "source": [
    "# Data Preparation"
   ]
  },
  {
   "cell_type": "code",
   "execution_count": null,
   "id": "250d1d66-0f39-44ef-9ca0-ac90ddf826ba",
   "metadata": {},
   "outputs": [],
   "source": [
    "features = feats_and_targets.filter(regex='x_').columns\n",
    "label = 'y_fwd_logrets_5d'"
   ]
  },
  {
   "cell_type": "code",
   "execution_count": null,
   "id": "db8d2ff3-8852-40d3-b56d-d52b3807e3e4",
   "metadata": {},
   "outputs": [
    {
     "data": {
      "text/plain": [
       "Index(['x_intrad_upshadow', 'x_intrad_loshadow', 'x_returns_1d',\n",
       "       'x_returns_5d', 'x_zscore_5d', 'x_zscore_vol_5d', 'x_macd_5d_vs_20d',\n",
       "       'x_rsi', 'x_zscore_20d', 'x_zscore_vol_20d', 'x_zscore_60d',\n",
       "       'x_zscore_vol_60d', 'x_bb_60d', 'x_macd_50d_vs_252d', 'x_returns_1y',\n",
       "       'x_rets5d_vol_60d', 'x_rets5d_vol_120d', 'x_mkt_dispersion',\n",
       "       'x_wday_cos', 'x_wday_sin', 'x_is_eoq', 'x_mkt_volat_60d',\n",
       "       'x_mkt_volat_120d'],\n",
       "      dtype='object')"
      ]
     },
     "execution_count": 13,
     "metadata": {},
     "output_type": "execute_result"
    }
   ],
   "source": [
    "features"
   ]
  },
  {
   "cell_type": "code",
   "execution_count": null,
   "id": "94985c1c-4aa9-4341-8afb-2b37e7cd5ec5",
   "metadata": {},
   "outputs": [],
   "source": [
    "feats_and_targets = feats_and_targets.replace({np.inf: np.nan, -np.inf: np.nan}).fillna(0.)"
   ]
  },
  {
   "cell_type": "markdown",
   "id": "bb3e1a06-4548-44b0-8599-c71c54193e09",
   "metadata": {},
   "source": [
    "# Splitting\n",
    "\n",
    "Define a column to split data into 2 or 3 folds (depending on your model building strategy). In general:\n",
    "\n",
    "\n",
    "Train/Val/Test:\n",
    "* Use train to fit model, Val to assess performance and probing different hyperparameters and test to yield a honest (final) performance metric\n",
    "\n",
    "Cross-Validation:\n",
    "* Use dev/test folds, in dev fold apply a Cross-validation algorithm that will sucesivelly split in train/valid\n",
    "* Once again, use test to yield a honest (final) performance metri"
   ]
  },
  {
   "cell_type": "code",
   "execution_count": 19,
   "id": "e63e5680-1b10-4a29-9693-e4b25722275f",
   "metadata": {},
   "outputs": [
    {
     "data": {
      "text/plain": [
       "1.train   0.6695\n",
       "2.valid   0.1657\n",
       "3.test    0.1647\n",
       "Name: split_3f, dtype: float64"
      ]
     },
     "execution_count": 19,
     "metadata": {},
     "output_type": "execute_result"
    }
   ],
   "source": [
    "feats_and_targets['split_3f'].value_counts(normalize=True)"
   ]
  },
  {
   "cell_type": "code",
   "execution_count": 20,
   "id": "d7282d39-c0bf-4217-95b2-5c93773dc122",
   "metadata": {},
   "outputs": [
    {
     "data": {
      "text/plain": [
       "('2015-01-01', '2016-12-31', '2017-06-30', '2017-12-31')"
      ]
     },
     "execution_count": 20,
     "metadata": {},
     "output_type": "execute_result"
    }
   ],
   "source": [
    "start_dt, val_dt, test_dt, end_dt"
   ]
  },
  {
   "cell_type": "code",
   "execution_count": 18,
   "id": "731c1b94-4fe9-4369-9477-9174a439230a",
   "metadata": {},
   "outputs": [],
   "source": [
    "df_train = feats_and_targets.query('split_3f == \"1.train\"')\n",
    "X_train = df_train[features]\n",
    "y_train = df_train[label]\n",
    "\n",
    "df_valid = feats_and_targets.query('split_3f == \"2.valid\"')\n",
    "X_valid =  df_valid[features]\n",
    "y_valid =  df_valid[label]\n",
    "\n",
    "df_test = feats_and_targets.query('split_3f == \"3.test\"')\n",
    "X_test =  df_test[features]\n",
    "y_test =  df_test[label]"
   ]
  },
  {
   "cell_type": "markdown",
   "id": "4a15097d-f1b4-4e9f-b274-a6247ca4584d",
   "metadata": {},
   "source": [
    "# Model Building"
   ]
  },
  {
   "cell_type": "markdown",
   "id": "e13feb5f-87a5-4e02-b7aa-33fd2870852b",
   "metadata": {},
   "source": [
    "`ParameterGrid`  allows to itererate over a grid of hyper-params"
   ]
  },
  {
   "cell_type": "code",
   "execution_count": 21,
   "id": "b2a1a157-cdeb-48a5-9891-df31dd4b7646",
   "metadata": {},
   "outputs": [
    {
     "name": "stdout",
     "output_type": "stream",
     "text": [
      "{'alpha': 0.001, 'fit_intercept': False}\n",
      "{'alpha': 0.001, 'fit_intercept': True}\n",
      "{'alpha': 0.0001, 'fit_intercept': False}\n",
      "{'alpha': 0.0001, 'fit_intercept': True}\n"
     ]
    }
   ],
   "source": [
    "from sklearn.model_selection import ParameterGrid\n",
    "\n",
    "grid_hparams = {\n",
    "    'fit_intercept': [False, True],\n",
    "    'alpha': [0.001, 0.0001], \n",
    "               }\n",
    "grid_hparams = ParameterGrid(grid_hparams)\n",
    "\n",
    "for hparams in grid_hparams:\n",
    "    print(hparams)\n"
   ]
  },
  {
   "cell_type": "code",
   "execution_count": 22,
   "id": "e7e87355-6158-43e5-b1fb-f8f43a80125e",
   "metadata": {},
   "outputs": [
    {
     "data": {
      "text/plain": [
       "4"
      ]
     },
     "execution_count": 22,
     "metadata": {},
     "output_type": "execute_result"
    }
   ],
   "source": [
    "len(grid_hparams)"
   ]
  },
  {
   "cell_type": "code",
   "execution_count": 25,
   "id": "89e723e6-0b72-4493-a916-97575b622b2c",
   "metadata": {},
   "outputs": [],
   "source": [
    "from sklearn.linear_model import Lasso\n",
    "from sklearn.metrics import mean_squared_error as skl_mse\n",
    "model = Lasso(random_state=RND_SEED)\n",
    "\n",
    "res = {'idx': [], 'model': [], 'hparams': [], 'train_rmse': [], 'val_rmse': []}\n",
    "\n",
    "for i, hparams in enumerate(grid_hparams):\n",
    "    # instanciate model\n",
    "    model = Lasso(random_state=RND_SEED, **hparams)\n",
    "    # fit model on train\n",
    "    model.fit(X_train, y_train)\n",
    "    # predict and assess on train and valid\n",
    "    p_train = model.predict(X_train)\n",
    "    train_rmse =  np.sqrt(skl_mse(y_train, p_train))\n",
    "    p_valid = model.predict(X_valid)\n",
    "    val_rmse =  np.sqrt(skl_mse(y_valid, p_valid))\n",
    "    # store results\n",
    "    res['idx'].append(i)\n",
    "    res['model'].append(model)\n",
    "    res['hparams'].append(hparams)\n",
    "    res['train_rmse'].append(train_rmse)\n",
    "    res['val_rmse'].append(val_rmse)\n"
   ]
  },
  {
   "cell_type": "code",
   "execution_count": 26,
   "id": "69467b06-f4ed-475f-b93c-0157bc21326a",
   "metadata": {},
   "outputs": [
    {
     "data": {
      "text/plain": [
       "{'alpha': 0.0001, 'fit_intercept': True}"
      ]
     },
     "execution_count": 26,
     "metadata": {},
     "output_type": "execute_result"
    }
   ],
   "source": [
    "hparams"
   ]
  },
  {
   "cell_type": "code",
   "execution_count": 28,
   "id": "d40bd976-2f24-477f-a035-f4450409c519",
   "metadata": {},
   "outputs": [
    {
     "data": {
      "text/plain": [
       "[0.08532724214261692,\n",
       " 0.08532601541113491,\n",
       " 0.08527250221718813,\n",
       " 0.08521569608677378]"
      ]
     },
     "execution_count": 28,
     "metadata": {},
     "output_type": "execute_result"
    }
   ],
   "source": [
    "res['train_rmse']"
   ]
  },
  {
   "cell_type": "code",
   "execution_count": 29,
   "id": "2c691e7d-2f0e-44bc-bdc7-a267b2db9ac5",
   "metadata": {},
   "outputs": [
    {
     "data": {
      "text/plain": [
       "[0.0720259437778695,\n",
       " 0.07203199982892511,\n",
       " 0.07207907724733775,\n",
       " 0.07214050962309944]"
      ]
     },
     "execution_count": 29,
     "metadata": {},
     "output_type": "execute_result"
    }
   ],
   "source": [
    "res['val_rmse']"
   ]
  },
  {
   "cell_type": "code",
   "execution_count": 30,
   "id": "0d7a158d-b66c-4a0e-b3fc-c793e519295b",
   "metadata": {},
   "outputs": [],
   "source": [
    "best_model = res['model'][0]"
   ]
  },
  {
   "cell_type": "markdown",
   "id": "53d87b3f-37ee-45af-8d79-4e80a6267cd1",
   "metadata": {},
   "source": [
    "It can be seen that hparams configuration `idx=0` yields the lowest rmse"
   ]
  },
  {
   "cell_type": "markdown",
   "id": "87762d27-b348-4ef0-8b5b-fc0d518c0578",
   "metadata": {},
   "source": [
    "# Predictions"
   ]
  },
  {
   "cell_type": "code",
   "execution_count": 33,
   "id": "cef2c32a-813b-4011-bd9f-2aa212546d98",
   "metadata": {},
   "outputs": [],
   "source": [
    "p_valid = pd.Series(index=X_valid.index, data=best_model.predict(X_valid), name='preds')"
   ]
  },
  {
   "cell_type": "code",
   "execution_count": 34,
   "id": "91e3d73d-ff20-413e-925a-703364c50e16",
   "metadata": {},
   "outputs": [
    {
     "data": {
      "text/plain": [
       "date        ticker\n",
       "2017-01-12  A        -0.0007\n",
       "2017-01-13  A        -0.0019\n",
       "Name: preds, dtype: float64"
      ]
     },
     "execution_count": 34,
     "metadata": {},
     "output_type": "execute_result"
    }
   ],
   "source": [
    "p_valid.head(2)  "
   ]
  },
  {
   "cell_type": "markdown",
   "id": "836aec5a-97b1-4d4c-9be4-28f7c3de7247",
   "metadata": {},
   "source": [
    "Use predictions to build a strategy, this set of values is can be seen as a ml-alpha factor that combines all our features into a single signal"
   ]
  },
  {
   "cell_type": "code",
   "execution_count": 49,
   "id": "4b317258-3810-48c1-a306-4f2a37bac632",
   "metadata": {},
   "outputs": [
    {
     "data": {
      "image/png": "[encoded data removed]",
      "text/plain": [
       "<Figure size 864x432 with 2 Axes>"
      ]
     },
     "metadata": {
      "needs_background": "light"
     },
     "output_type": "display_data"
    }
   ],
   "source": [
    "fig, axs = plt.subplots(2,1)\n",
    "\n",
    "ax = axs[0]\n",
    "p_valid.plot.hist(label='y_pred', alpha=0.5, density=True, ax=ax)\n",
    "ax.legend()\n",
    "\n",
    "ax = axs[1]\n",
    "y_valid.plot.hist(label='y_true', alpha=0.5,  density=True, ax=ax)\n",
    "ax.legend()\n",
    "plt.show()"
   ]
  },
  {
   "cell_type": "code",
   "execution_count": 51,
   "id": "96c7bd20-5ea9-4a1f-9707-7a55d9978061",
   "metadata": {},
   "outputs": [
    {
     "data": {
      "text/plain": [
       "count   62,045.0000\n",
       "mean        -0.0010\n",
       "std          0.0008\n",
       "min         -0.0029\n",
       "25%         -0.0015\n",
       "50%         -0.0011\n",
       "75%         -0.0006\n",
       "max          0.0041\n",
       "Name: preds, dtype: float64"
      ]
     },
     "execution_count": 51,
     "metadata": {},
     "output_type": "execute_result"
    }
   ],
   "source": [
    "p_valid.describe()"
   ]
  },
  {
   "cell_type": "code",
   "execution_count": 50,
   "id": "90831f96-582c-4943-b77d-0833ba881bd6",
   "metadata": {},
   "outputs": [
    {
     "data": {
      "text/plain": [
       "count   62,045.0000\n",
       "mean        -0.0002\n",
       "std          0.0720\n",
       "min         -1.3549\n",
       "25%         -0.0191\n",
       "50%          0.0014\n",
       "75%          0.0207\n",
       "max          3.6065\n",
       "Name: y_fwd_logrets_5d, dtype: float64"
      ]
     },
     "execution_count": 50,
     "metadata": {},
     "output_type": "execute_result"
    }
   ],
   "source": [
    "y_valid.describe()"
   ]
  },
  {
   "cell_type": "markdown",
   "id": "17b78190-be70-4fae-a111-3bddd1ca5ef3",
   "metadata": {},
   "source": [
    "# Evaluation\n",
    "\n",
    "(In ML terms, an evaluation in money terms needs a strategy on top of predictions and a proper backtesting on unseen data)"
   ]
  },
  {
   "cell_type": "markdown",
   "id": "34ea2e48-3b3b-49fc-9ac7-73ea5ad4ce2c",
   "metadata": {},
   "source": [
    "Tails in target distribution is a caveat to modelling, spececially with linear models"
   ]
  },
  {
   "cell_type": "code",
   "execution_count": 65,
   "id": "2c3f713a-22ba-48e4-9b61-33ebcf8eb99d",
   "metadata": {},
   "outputs": [
    {
     "data": {
      "text/html": [
       "<div>\n",
       "<style scoped>\n",
       "    .dataframe tbody tr th:only-of-type {\n",
       "        vertical-align: middle;\n",
       "    }\n",
       "\n",
       "    .dataframe tbody tr th {\n",
       "        vertical-align: top;\n",
       "    }\n",
       "\n",
       "    .dataframe thead th {\n",
       "        text-align: right;\n",
       "    }\n",
       "</style>\n",
       "<table border=\"1\" class=\"dataframe\">\n",
       "  <thead>\n",
       "    <tr style=\"text-align: right;\">\n",
       "      <th>col_0</th>\n",
       "      <th>False</th>\n",
       "      <th>True</th>\n",
       "    </tr>\n",
       "    <tr>\n",
       "      <th>y_fwd_logrets_5d</th>\n",
       "      <th></th>\n",
       "      <th></th>\n",
       "    </tr>\n",
       "  </thead>\n",
       "  <tbody>\n",
       "    <tr>\n",
       "      <th>False</th>\n",
       "      <td>0.3629</td>\n",
       "      <td>0.1190</td>\n",
       "    </tr>\n",
       "    <tr>\n",
       "      <th>True</th>\n",
       "      <td>0.3623</td>\n",
       "      <td>0.1558</td>\n",
       "    </tr>\n",
       "  </tbody>\n",
       "</table>\n",
       "</div>"
      ],
      "text/plain": [
       "col_0             False  True \n",
       "y_fwd_logrets_5d              \n",
       "False            0.3629 0.1190\n",
       "True             0.3623 0.1558"
      ]
     },
     "execution_count": 65,
     "metadata": {},
     "output_type": "execute_result"
    }
   ],
   "source": [
    "cm_train = pd.crosstab(\n",
    "    index=y_train>0,\n",
    "    columns= p_train>0,\n",
    "    normalize=True  # also check 'index'\n",
    ")\n",
    "cm_train"
   ]
  },
  {
   "cell_type": "code",
   "execution_count": 68,
   "id": "702ae3f2-0782-4686-a61d-aba0afdce791",
   "metadata": {},
   "outputs": [
    {
     "data": {
      "text/plain": [
       "0.518709600191525"
      ]
     },
     "execution_count": 68,
     "metadata": {},
     "output_type": "execute_result"
    }
   ],
   "source": [
    "np.diag(cm_train).sum()"
   ]
  },
  {
   "cell_type": "markdown",
   "id": "2ce169c3-d50f-4c9c-a7cb-24d0a5a6bc68",
   "metadata": {},
   "source": [
    "This model does not provide a good estimation on long positions, as it is skewed to the negative side"
   ]
  },
  {
   "cell_type": "code",
   "execution_count": 69,
   "id": "ddfb04ba-5d0f-46b0-ac2b-4b624ac72540",
   "metadata": {},
   "outputs": [
    {
     "data": {
      "text/html": [
       "<div>\n",
       "<style scoped>\n",
       "    .dataframe tbody tr th:only-of-type {\n",
       "        vertical-align: middle;\n",
       "    }\n",
       "\n",
       "    .dataframe tbody tr th {\n",
       "        vertical-align: top;\n",
       "    }\n",
       "\n",
       "    .dataframe thead th {\n",
       "        text-align: right;\n",
       "    }\n",
       "</style>\n",
       "<table border=\"1\" class=\"dataframe\">\n",
       "  <thead>\n",
       "    <tr style=\"text-align: right;\">\n",
       "      <th>preds</th>\n",
       "      <th>False</th>\n",
       "      <th>True</th>\n",
       "    </tr>\n",
       "    <tr>\n",
       "      <th>y_fwd_logrets_5d</th>\n",
       "      <th></th>\n",
       "      <th></th>\n",
       "    </tr>\n",
       "  </thead>\n",
       "  <tbody>\n",
       "    <tr>\n",
       "      <th>False</th>\n",
       "      <td>0.4405</td>\n",
       "      <td>0.0405</td>\n",
       "    </tr>\n",
       "    <tr>\n",
       "      <th>True</th>\n",
       "      <td>0.4778</td>\n",
       "      <td>0.0412</td>\n",
       "    </tr>\n",
       "  </tbody>\n",
       "</table>\n",
       "</div>"
      ],
      "text/plain": [
       "preds             False  True \n",
       "y_fwd_logrets_5d              \n",
       "False            0.4405 0.0405\n",
       "True             0.4778 0.0412"
      ]
     },
     "execution_count": 69,
     "metadata": {},
     "output_type": "execute_result"
    }
   ],
   "source": [
    "cm_valid = pd.crosstab(\n",
    "    index=y_valid>0,\n",
    "    columns= p_valid>0,\n",
    "    normalize=True\n",
    ")\n",
    "cm_valid"
   ]
  },
  {
   "cell_type": "markdown",
   "id": "666020e5-aeb0-49c8-ac45-f03f88b5d0d0",
   "metadata": {},
   "source": [
    "In addition, this skew is more accute in valid data"
   ]
  },
  {
   "cell_type": "code",
   "execution_count": 70,
   "id": "16c7aead-d397-4cc9-9425-0b16f7dc4d39",
   "metadata": {},
   "outputs": [
    {
     "data": {
      "text/plain": [
       "0.4816665323555484"
      ]
     },
     "execution_count": 70,
     "metadata": {},
     "output_type": "execute_result"
    }
   ],
   "source": [
    "np.diag(cm_valid).sum()"
   ]
  },
  {
   "cell_type": "code",
   "execution_count": null,
   "id": "1ce303c7-09c2-4907-8cb4-bf4563eb5d74",
   "metadata": {},
   "outputs": [],
   "source": []
  }
 ],
 "metadata": {
  "kernelspec": {
   "display_name": "Python 3",
   "language": "python",
   "name": "python3"
  },
  "language_info": {
   "codemirror_mode": {
    "name": "ipython",
    "version": 3
   },
   "file_extension": ".py",
   "mimetype": "text/x-python",
   "name": "python",
   "nbconvert_exporter": "python",
   "pygments_lexer": "ipython3",
   "version": "3.8.8"
  }
 },
 "nbformat": 4,
 "nbformat_minor": 5
}
